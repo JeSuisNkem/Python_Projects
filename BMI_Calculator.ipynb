{
 "cells": [
  {
   "cell_type": "markdown",
   "metadata": {},
   "source": [
    "Write a program that continually reads in mass and height from the user and then outputs if the user is underweight, normal weight, overweight or obese.\n",
    "enter the mass,enter the height\n",
    "print out mass is, height is bmi category, (bmi kg/m^2)\n",
    "Height= 1.60\n",
    "Weight= 76.6"
   ]
  },
  {
   "cell_type": "code",
   "execution_count": 79,
   "metadata": {},
   "outputs": [
    {
     "name": "stdout",
     "output_type": "stream",
     "text": [
      "Enter mass in KG: 76.6\n",
      "Enter height in meters: 1.60\n",
      "Your BMI is 29.9, you are overweight\n",
      "Type 0 to exit or 1 to continue: 1\n",
      "Enter mass in KG: 200\n",
      "Enter height in meters: 1.51\n",
      "Your BMI is 87.7, you are obese\n",
      "Type 0 to exit or 1 to continue: 1\n",
      "Enter mass in KG: 30\n",
      "Enter height in meters: 0.5\n",
      "Your BMI is 120.0, you are obese\n",
      "Type 0 to exit or 1 to continue: 0\n"
     ]
    }
   ],
   "source": [
    "while True:\n",
    "    #We had to change the input to a float because the input funtion would always return as a string\n",
    "    #always space after the colon in input\n",
    "    mass= float (input (\"Enter mass in KG: \"))\n",
    "    height= float (input(\"Enter height in meters: \"))\n",
    "    #The round function rounds off the number solved and the number after the comma indicate the decimal points. \n",
    "    BMI=  round (mass / (height**2),1)\n",
    "    if BMI < 18.5:\n",
    "            print (\"Your BMI is {}, you are underweight\". format (BMI))\n",
    "    elif BMI <25:\n",
    "            print (\"Your BMI is {}, you are neither underweight or overweight\". format (BMI))\n",
    "    elif BMI <30:\n",
    "            print (\"Your BMI is {}, you are overweight\". format (BMI))\n",
    "    else:\n",
    "        print (\"Your BMI is {}, you are obese\". format (BMI))\n",
    "        # The above code will keep running because the conditions will remain true since it is an infinite loop\n",
    "        # To end it create new conditions using break and continue.\n",
    "    exit= int (input (\"Type 0 to exit or 1 to continue: \"))\n",
    "    if exit== 0:\n",
    "        break\n",
    "    if exit==1:\n",
    "        continue "
   ]
  },
  {
   "cell_type": "code",
   "execution_count": null,
   "metadata": {},
   "outputs": [],
   "source": []
  },
  {
   "cell_type": "code",
   "execution_count": null,
   "metadata": {},
   "outputs": [],
   "source": []
  },
  {
   "cell_type": "code",
   "execution_count": null,
   "metadata": {},
   "outputs": [],
   "source": []
  },
  {
   "cell_type": "code",
   "execution_count": null,
   "metadata": {},
   "outputs": [],
   "source": []
  }
 ],
 "metadata": {
  "kernelspec": {
   "display_name": "Python 3",
   "language": "python",
   "name": "python3"
  },
  "language_info": {
   "codemirror_mode": {
    "name": "ipython",
    "version": 3
   },
   "file_extension": ".py",
   "mimetype": "text/x-python",
   "name": "python",
   "nbconvert_exporter": "python",
   "pygments_lexer": "ipython3",
   "version": "3.8.3"
  }
 },
 "nbformat": 4,
 "nbformat_minor": 4
}
